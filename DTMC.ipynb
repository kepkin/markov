{
 "metadata": {
  "name": "DTMC"
 },
 "nbformat": 3,
 "nbformat_minor": 0,
 "worksheets": [
  {
   "cells": [
    {
     "cell_type": "code",
     "collapsed": false,
     "input": "%pylab inline",
     "language": "python",
     "metadata": {},
     "outputs": [
      {
       "output_type": "stream",
       "stream": "stdout",
       "text": "Populating the interactive namespace from numpy and matplotlib\n"
      }
     ],
     "prompt_number": 190
    },
    {
     "cell_type": "code",
     "collapsed": true,
     "input": "import numpy as np\nfrom numpy import linalg as LA\nimport pylab as pl\nfrom collections import defaultdict\n\ns = defaultdict(dict) #states_transition\n# sunny & cloudy example\n# s[1][1] = 0.75\n# s[1][2] = 0.25\n# s[2][1] = 0.4\n# s[2][2] = 0.6\ns[1][1] = 0.7\ns[1][2] = 0.3\ns[1][3] = 0\ns[2][1] = 0\ns[2][2] = 0.85\ns[2][3] = 0.15\ns[3][1] = 0\ns[3][2] = 0\ns[3][3] = 1\n\ninitial_state = 1\nn = 20",
     "language": "python",
     "metadata": {},
     "outputs": [],
     "prompt_number": 191
    },
    {
     "cell_type": "code",
     "collapsed": false,
     "input": "#create matrix array\nn_states = len(s)\n\n# this stuff is needed to sort matrix in form\n# [ Q 0 ]\n# [ R I ]\nabsorbing_states = [ i for i in xrange(1, n_states + 1) if s[i][i] == 1 ]\nstate_reindex = []\n\narr = []\ninitial_arr = []\nstates_to_enum = [ i for i in xrange(1, n_states + 1) if i not in absorbing_states ]\nfor to_state in states_to_enum:\n    state_reindex.append(to_state)\n    # append row\n    arr.append([ s[from_state][to_state] for from_state in states_to_enum ])\n    if to_state == initial_state:\n        initial_arr.append([1])\n    else:\n        initial_arr.append([0])\n\n        \na = np.matrix(arr)\nprint a\n\n#create initial array\ninitial = np.matrix(initial_arr)",
     "language": "python",
     "metadata": {},
     "outputs": [
      {
       "output_type": "stream",
       "stream": "stdout",
       "text": "[[ 0.7   0.  ]\n [ 0.3   0.85]]\n"
      }
     ],
     "prompt_number": 192
    },
    {
     "cell_type": "code",
     "collapsed": false,
     "input": "def noAbs():\n    values = []\n    values.append(initial)\n    curent_matrix = 1\n    for i in range(n):\n        curent_matrix = curent_matrix * a\n        values.append(curent_matrix * initial)\n\n    for i in xrange(0, n_states):\n        state_p = [ v.item(i) for v in values ]\n        pl.bar(range(n + 1), state_p, label=\"state\", width=3)\n        for iv in range(len(state_p)):\n            pl.text(iv, state_p[iv], \"{0}\".format(state_p[iv]))\n        pl.title(\"state {0}\".format(i+1))\n        pl.show()\n\n# no absorbing\nif not absorbing_states:\n    noAbs()\nelse:\n    print a\n    i_q = np.identity(len(states_to_enum)) - a\n    print i_q\n    N = LA.inv(i_q)\n    print N\n",
     "language": "python",
     "metadata": {},
     "outputs": [
      {
       "output_type": "stream",
       "stream": "stdout",
       "text": "[[ 0.7   0.  ]\n [ 0.3   0.85]]\n[[ 0.3   0.  ]\n [-0.3   0.15]]\n[[ 3.33333333  0.        ]\n [ 6.66666667  6.66666667]]\n"
      }
     ],
     "prompt_number": 197
    },
    {
     "cell_type": "code",
     "collapsed": false,
     "input": "",
     "language": "python",
     "metadata": {},
     "outputs": [],
     "prompt_number": 193
    },
    {
     "cell_type": "code",
     "collapsed": false,
     "input": "",
     "language": "python",
     "metadata": {},
     "outputs": [],
     "prompt_number": 193
    },
    {
     "cell_type": "code",
     "collapsed": false,
     "input": "",
     "language": "python",
     "metadata": {},
     "outputs": [],
     "prompt_number": 193
    }
   ],
   "metadata": {}
  }
 ]
}